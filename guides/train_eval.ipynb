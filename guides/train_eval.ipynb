{
  "nbformat": 4,
  "nbformat_minor": 0,
  "metadata": {
    "colab": {
      "provenance": [],
      "collapsed_sections": [],
      "toc_visible": true
    },
    "kernelspec": {
      "name": "python3",
      "display_name": "Python 3"
    },
    "language_info": {
      "name": "python"
    }
  },
  "cells": [
    {
      "cell_type": "markdown",
      "source": [
        "# Train and evalutation guide\n",
        "\n",
        "(heavily inspierd by an [official guide](https://keras.io/guides/training_with_built_in_methods/))"
      ],
      "metadata": {
        "id": "E_NFNtHZERL_"
      }
    },
    {
      "cell_type": "code",
      "execution_count": 1,
      "metadata": {
        "id": "7g5vg34oEQQS"
      },
      "outputs": [],
      "source": [
        "import tensorflow as tf\n",
        "from tensorflow import keras\n",
        "from tensorflow.keras import layers"
      ]
    },
    {
      "cell_type": "markdown",
      "source": [
        "## First complete example"
      ],
      "metadata": {
        "id": "sCCTG5evEw-O"
      }
    },
    {
      "cell_type": "code",
      "source": [
        "# load and prepare mnist data (train, val and test)\n",
        "(x_train, y_train), (x_test, y_test) = keras.datasets.mnist.load_data()\n",
        "\n",
        "x_train = x_train.reshape(60000, 784).astype(\"float32\") / 255\n",
        "x_test = x_test.reshape(10000, 784).astype(\"float32\") / 255\n",
        "\n",
        "y_train = y_train.astype(\"float32\")\n",
        "y_test = y_test.astype(\"float32\")\n",
        "\n",
        "x_val = x_train[-10000:]\n",
        "y_val = y_train[-10000:]\n",
        "x_train = x_train[:-10000]\n",
        "y_train = y_train[:-10000]"
      ],
      "metadata": {
        "id": "0mSzhhhVG5a5"
      },
      "execution_count": 2,
      "outputs": []
    },
    {
      "cell_type": "code",
      "source": [
        "# model\n",
        "inputs = keras.Input(shape=(784,), name='digits')\n",
        "x = layers.Dense(64, activation='relu', name='dense_1')(inputs)\n",
        "x = layers.Dense(64, activation='relu', name='dense_2')(x)\n",
        "outputs = layers.Dense(10, activation='softmax', name='predictions')(x)\n",
        "\n",
        "model = keras.Model(inputs=inputs, outputs=outputs, name='easy_model')\n",
        "model.summary()\n",
        "\n",
        "# compile model\n",
        "model.compile(\n",
        "    optimizer = keras.optimizers.RMSprop(),\n",
        "    loss = keras.losses.SparseCategoricalCrossentropy(),\n",
        "    metrics = [keras.metrics.SparseCategoricalAccuracy()]\n",
        ")"
      ],
      "metadata": {
        "colab": {
          "base_uri": "https://localhost:8080/"
        },
        "id": "-Td6Nt3pEwS1",
        "outputId": "b0b5674b-f565-4659-e3c8-add3fd18140a"
      },
      "execution_count": 3,
      "outputs": [
        {
          "output_type": "stream",
          "name": "stdout",
          "text": [
            "Model: \"easy_model\"\n",
            "_________________________________________________________________\n",
            " Layer (type)                Output Shape              Param #   \n",
            "=================================================================\n",
            " digits (InputLayer)         [(None, 784)]             0         \n",
            "                                                                 \n",
            " dense_1 (Dense)             (None, 64)                50240     \n",
            "                                                                 \n",
            " dense_2 (Dense)             (None, 64)                4160      \n",
            "                                                                 \n",
            " predictions (Dense)         (None, 10)                650       \n",
            "                                                                 \n",
            "=================================================================\n",
            "Total params: 55,050\n",
            "Trainable params: 55,050\n",
            "Non-trainable params: 0\n",
            "_________________________________________________________________\n"
          ]
        }
      ]
    },
    {
      "cell_type": "code",
      "source": [
        "# fit model\n",
        "print('Fit model on training data')\n",
        "history = model.fit(\n",
        "    x_train,\n",
        "    y_train,\n",
        "    batch_size=128,\n",
        "    epochs=3,\n",
        "    validation_data=(x_val, y_val),\n",
        ")"
      ],
      "metadata": {
        "colab": {
          "base_uri": "https://localhost:8080/"
        },
        "id": "V38Tm-jkIRSp",
        "outputId": "e5bae801-49ce-4351-9f7a-9b28bbf11e37"
      },
      "execution_count": 4,
      "outputs": [
        {
          "output_type": "stream",
          "name": "stdout",
          "text": [
            "Fit model on training data\n",
            "Epoch 1/3\n",
            "391/391 [==============================] - 4s 9ms/step - loss: 0.3979 - sparse_categorical_accuracy: 0.8897 - val_loss: 0.1940 - val_sparse_categorical_accuracy: 0.9457\n",
            "Epoch 2/3\n",
            "391/391 [==============================] - 4s 9ms/step - loss: 0.1877 - sparse_categorical_accuracy: 0.9442 - val_loss: 0.1412 - val_sparse_categorical_accuracy: 0.9600\n",
            "Epoch 3/3\n",
            "391/391 [==============================] - 4s 9ms/step - loss: 0.1400 - sparse_categorical_accuracy: 0.9590 - val_loss: 0.1324 - val_sparse_categorical_accuracy: 0.9619\n"
          ]
        }
      ]
    },
    {
      "cell_type": "code",
      "source": [
        "history.history"
      ],
      "metadata": {
        "colab": {
          "base_uri": "https://localhost:8080/"
        },
        "id": "Gg73deXWHcQ9",
        "outputId": "6bd725da-a4bb-4dd3-bc84-56d4fb1358a8"
      },
      "execution_count": 5,
      "outputs": [
        {
          "output_type": "execute_result",
          "data": {
            "text/plain": [
              "{'loss': [0.39792370796203613, 0.18771925568580627, 0.13999520242214203],\n",
              " 'sparse_categorical_accuracy': [0.8897200226783752,\n",
              "  0.944159984588623,\n",
              "  0.9589599967002869],\n",
              " 'val_loss': [0.19398635625839233, 0.1411861628293991, 0.13242247700691223],\n",
              " 'val_sparse_categorical_accuracy': [0.9456999897956848,\n",
              "  0.9599999785423279,\n",
              "  0.961899995803833]}"
            ]
          },
          "metadata": {},
          "execution_count": 5
        }
      ]
    },
    {
      "cell_type": "code",
      "source": [
        "# evaluate the model on the test data using evaluate\n",
        "print(\"Evaluate on test data\")\n",
        "results = model.evaluate(x_test, y_test, batch_size=128)\n",
        "print(\"test loss, test acc:\", results)\n",
        "\n",
        "# generate predictions on new data using predict\n",
        "print(\"Generate predictions for 3 samples\")\n",
        "predictions = model.predict(x_test[:3])\n",
        "print(\"predictions shape:\", predictions.shape)"
      ],
      "metadata": {
        "colab": {
          "base_uri": "https://localhost:8080/"
        },
        "id": "emXAf3EkJ42h",
        "outputId": "ed8652e4-ded8-4633-bfec-668e501946a5"
      },
      "execution_count": 6,
      "outputs": [
        {
          "output_type": "stream",
          "name": "stdout",
          "text": [
            "Evaluate on test data\n",
            "79/79 [==============================] - 1s 6ms/step - loss: 0.1432 - sparse_categorical_accuracy: 0.9577\n",
            "test loss, test acc: [0.1431911438703537, 0.9577000141143799]\n",
            "Generate predictions for 3 samples\n",
            "1/1 [==============================] - 0s 250ms/step\n",
            "predictions shape: (3, 10)\n"
          ]
        }
      ]
    },
    {
      "cell_type": "markdown",
      "source": [
        "## The compile() method: losses, metrics and optimizers"
      ],
      "metadata": {
        "id": "c6WcDqJyKWJ2"
      }
    },
    {
      "cell_type": "code",
      "source": [
        "# this\n",
        "model.compile(\n",
        "    optimizer=keras.optimizers.RMSprop(learning_rate=1e-3),\n",
        "    loss=keras.losses.SparseCategoricalCrossentropy(),\n",
        "    metrics=[keras.metrics.SparseCategoricalAccuracy()],\n",
        ")\n",
        "\n",
        "# equals to\n",
        "model.compile(\n",
        "    optimizer=\"rmsprop\",\n",
        "    loss=\"sparse_categorical_crossentropy\",\n",
        "    metrics=[\"sparse_categorical_accuracy\"],\n",
        ")"
      ],
      "metadata": {
        "id": "XbVG-WixKDEX"
      },
      "execution_count": 7,
      "outputs": []
    },
    {
      "cell_type": "code",
      "source": [
        "# for later reuse\n",
        "def get_uncompiled_model():\n",
        "    inputs = keras.Input(shape=(784,), name=\"digits\")\n",
        "    x = layers.Dense(64, activation=\"relu\", name=\"dense_1\")(inputs)\n",
        "    x = layers.Dense(64, activation=\"relu\", name=\"dense_2\")(x)\n",
        "    outputs = layers.Dense(10, activation=\"softmax\", name=\"predictions\")(x)\n",
        "    model = keras.Model(inputs=inputs, outputs=outputs)\n",
        "    return model\n",
        "\n",
        "\n",
        "def get_compiled_model():\n",
        "    model = get_uncompiled_model()\n",
        "    model.compile(\n",
        "        optimizer=\"rmsprop\",\n",
        "        loss=\"sparse_categorical_crossentropy\",\n",
        "        metrics=[\"sparse_categorical_accuracy\"],\n",
        "    )\n",
        "    return model"
      ],
      "metadata": {
        "id": "gKZYzSVvKt19"
      },
      "execution_count": 8,
      "outputs": []
    },
    {
      "cell_type": "markdown",
      "source": [
        "### Custom losses"
      ],
      "metadata": {
        "id": "S8dZ1AtWLC01"
      }
    },
    {
      "cell_type": "code",
      "source": [
        "# many losses, metrics and optimizers are already in the API, otherwise\n",
        "# it's something like this\n",
        "def custom_mean_squared_error(y_true, y_pred):\n",
        "    return tf.math.reduce_mean(tf.square(y_true - y_pred))\n",
        "\n",
        "model = get_uncompiled_model()\n",
        "model.compile(optimizer=keras.optimizers.Adam(), loss=custom_mean_squared_error)\n",
        "\n",
        "# we need to one-hot encode the labels to use MSE\n",
        "y_train_one_hot = tf.one_hot(y_train, depth=10)\n",
        "model.fit(x_train, y_train_one_hot, batch_size=64, epochs=1)"
      ],
      "metadata": {
        "colab": {
          "base_uri": "https://localhost:8080/"
        },
        "id": "3alZaWsHLEAo",
        "outputId": "6f0fd6af-241f-4086-ca15-16fbff6649a5"
      },
      "execution_count": 9,
      "outputs": [
        {
          "output_type": "stream",
          "name": "stdout",
          "text": [
            "782/782 [==============================] - 6s 6ms/step - loss: 0.0160\n"
          ]
        },
        {
          "output_type": "execute_result",
          "data": {
            "text/plain": [
              "<keras.callbacks.History at 0x7ff8397e0b90>"
            ]
          },
          "metadata": {},
          "execution_count": 9
        }
      ]
    },
    {
      "cell_type": "code",
      "source": [
        "# If you need a loss function that takes in parameters beside y_true and y_pred,\n",
        "# you can subclass the tf.keras.losses.Loss class and implement the following \n",
        "# methods:\n",
        "#   - __init__(self): accept parameters to pass during the call of your loss function\n",
        "#   - call(self, y_true, y_pred): use the targets (y_true) and the model \n",
        "#                     predictions (y_pred) to compute the model's loss\n",
        "\n",
        "class CustomMSE(keras.losses.Loss):\n",
        "    def __init__(self, regularization_factor=0.1, name=\"custom_mse\"):\n",
        "        super().__init__(name=name)\n",
        "        self.regularization_factor = regularization_factor\n",
        "\n",
        "    def call(self, y_true, y_pred):\n",
        "        mse = tf.math.reduce_mean(tf.square(y_true - y_pred))\n",
        "        reg = tf.math.reduce_mean(tf.square(0.5 - y_pred))\n",
        "        return mse + reg * self.regularization_factor\n",
        "\n",
        "\n",
        "model = get_uncompiled_model()\n",
        "model.compile(optimizer=keras.optimizers.Adam(), loss=CustomMSE())\n",
        "\n",
        "y_train_one_hot = tf.one_hot(y_train, depth=10)\n",
        "model.fit(x_train, y_train_one_hot, batch_size=64, epochs=1)"
      ],
      "metadata": {
        "colab": {
          "base_uri": "https://localhost:8080/"
        },
        "id": "131RjGNfLl02",
        "outputId": "242c6e29-504b-4ecb-f7ae-52eae048b631"
      },
      "execution_count": 10,
      "outputs": [
        {
          "output_type": "stream",
          "name": "stdout",
          "text": [
            "782/782 [==============================] - 3s 4ms/step - loss: 0.0385\n"
          ]
        },
        {
          "output_type": "execute_result",
          "data": {
            "text/plain": [
              "<keras.callbacks.History at 0x7ff83ced1c50>"
            ]
          },
          "metadata": {},
          "execution_count": 10
        }
      ]
    },
    {
      "cell_type": "markdown",
      "source": [
        "### Custom metrics"
      ],
      "metadata": {
        "id": "lnTz-nBBMiKO"
      }
    },
    {
      "cell_type": "code",
      "source": [
        "# Create custom metrics by subclassing the tf.keras.metrics.Metric class. \n",
        "#\n",
        "# You will need to implement 4 methods:\n",
        "#   __init__(self), in which you will create state variables for your metric.\n",
        "#   update_state(self, y_true, y_pred, sample_weight=None), which uses the \n",
        "#        targets y_true and the model predictions y_pred to update the state variables.\n",
        "#   result(self), which uses the state variables to compute the final results.\n",
        "#   reset_state(self), which reinitializes the state of the metric.\n",
        "\n",
        "class CategoricalTruePositives(keras.metrics.Metric):\n",
        "    def __init__(self, name=\"categorical_true_positives\", **kwargs):\n",
        "        super(CategoricalTruePositives, self).__init__(name=name, **kwargs)\n",
        "        self.true_positives = self.add_weight(name=\"ctp\", initializer=\"zeros\")\n",
        "\n",
        "    def update_state(self, y_true, y_pred, sample_weight=None):\n",
        "        y_pred = tf.reshape(tf.argmax(y_pred, axis=1), shape=(-1, 1))\n",
        "        values = tf.cast(y_true, \"int32\") == tf.cast(y_pred, \"int32\")\n",
        "        values = tf.cast(values, \"float32\")\n",
        "        if sample_weight is not None:\n",
        "            sample_weight = tf.cast(sample_weight, \"float32\")\n",
        "            values = tf.multiply(values, sample_weight)\n",
        "        self.true_positives.assign_add(tf.reduce_sum(values))\n",
        "\n",
        "    def result(self):\n",
        "        return self.true_positives\n",
        "\n",
        "    def reset_state(self):\n",
        "        # the state of the metric will be reset at the start of each epoch.\n",
        "        self.true_positives.assign(0.0)\n",
        "\n",
        "\n",
        "model = get_uncompiled_model()\n",
        "model.compile(\n",
        "    optimizer=keras.optimizers.RMSprop(learning_rate=1e-3),\n",
        "    loss=keras.losses.SparseCategoricalCrossentropy(),\n",
        "    metrics=[CategoricalTruePositives()],\n",
        ")\n",
        "model.fit(x_train, y_train, batch_size=64, epochs=3)"
      ],
      "metadata": {
        "colab": {
          "base_uri": "https://localhost:8080/"
        },
        "id": "NgNptm2RMjYt",
        "outputId": "180c210d-2322-49bb-ac2a-7604fb9d506b"
      },
      "execution_count": 11,
      "outputs": [
        {
          "output_type": "stream",
          "name": "stdout",
          "text": [
            "Epoch 1/3\n",
            "782/782 [==============================] - 4s 4ms/step - loss: 0.3387 - categorical_true_positives: 45203.0000\n",
            "Epoch 2/3\n",
            "782/782 [==============================] - 3s 4ms/step - loss: 0.1631 - categorical_true_positives: 47594.0000\n",
            "Epoch 3/3\n",
            "782/782 [==============================] - 3s 3ms/step - loss: 0.1176 - categorical_true_positives: 48223.0000\n"
          ]
        },
        {
          "output_type": "execute_result",
          "data": {
            "text/plain": [
              "<keras.callbacks.History at 0x7ff83cd7cd10>"
            ]
          },
          "metadata": {},
          "execution_count": 11
        }
      ]
    },
    {
      "cell_type": "markdown",
      "source": [
        "### Non-standard losses and metrics"
      ],
      "metadata": {
        "id": "lGDufdVjNmQn"
      }
    },
    {
      "cell_type": "code",
      "source": [
        "# There are also non-standard losses and metrics (not computed directly from \n",
        "# y_true and y_pred): a regularization loss may only require the activation of \n",
        "# a layer (there are no targets in this case), and this activation may not be a \n",
        "# model output.\n",
        "\n",
        "# In such cases, you can call self.add_loss(loss_value) from inside the call \n",
        "# method of a custom layer. Losses added in this way get added to the \"main\" \n",
        "# loss during training (the one passed to compile()).\n",
        "\n",
        "class ActivityRegularizationLayer(layers.Layer):\n",
        "    def call(self, inputs):\n",
        "        self.add_loss(tf.reduce_sum(inputs) * 0.1)\n",
        "        return inputs  # pass-through layer.\n",
        "\n",
        "\n",
        "inputs = keras.Input(shape=(784,), name=\"digits\")\n",
        "x = layers.Dense(64, activation=\"relu\", name=\"dense_1\")(inputs)\n",
        "\n",
        "# insert activity regularization as a layer\n",
        "x = ActivityRegularizationLayer()(x)\n",
        "\n",
        "x = layers.Dense(64, activation=\"relu\", name=\"dense_2\")(x)\n",
        "outputs = layers.Dense(10, name=\"predictions\")(x)\n",
        "\n",
        "model = keras.Model(inputs=inputs, outputs=outputs)\n",
        "model.compile(\n",
        "    optimizer=keras.optimizers.RMSprop(learning_rate=1e-3),\n",
        "    loss=keras.losses.SparseCategoricalCrossentropy(from_logits=True),\n",
        ")\n",
        "\n",
        "# the displayed loss will be much higher than before due to the regularization component.\n",
        "model.fit(x_train, y_train, batch_size=64, epochs=1)"
      ],
      "metadata": {
        "colab": {
          "base_uri": "https://localhost:8080/"
        },
        "id": "_lefEn3WNocI",
        "outputId": "6aeccddd-4212-4ad0-a89a-9fafff23e4bd"
      },
      "execution_count": 12,
      "outputs": [
        {
          "output_type": "stream",
          "name": "stdout",
          "text": [
            "782/782 [==============================] - 3s 4ms/step - loss: 2.5076\n"
          ]
        },
        {
          "output_type": "execute_result",
          "data": {
            "text/plain": [
              "<keras.callbacks.History at 0x7ff83cb75d10>"
            ]
          },
          "metadata": {},
          "execution_count": 12
        }
      ]
    },
    {
      "cell_type": "code",
      "source": [
        "# the same can be done for metrics\n",
        "\n",
        "class MetricLoggingLayer(layers.Layer):\n",
        "    def call(self, inputs):\n",
        "        # `aggregation` defines how to aggregate the per-batch values over each epoch\n",
        "        self.add_metric(\n",
        "            keras.backend.std(inputs), name=\"std_of_activation\", aggregation=\"mean\"\n",
        "        )\n",
        "        return inputs  # pass-through layer.\n",
        "\n",
        "\n",
        "inputs = keras.Input(shape=(784,), name=\"digits\")\n",
        "x = layers.Dense(64, activation=\"relu\", name=\"dense_1\")(inputs)\n",
        "\n",
        "# insert std logging as a layer.\n",
        "x = MetricLoggingLayer()(x)\n",
        "\n",
        "x = layers.Dense(64, activation=\"relu\", name=\"dense_2\")(x)\n",
        "outputs = layers.Dense(10, name=\"predictions\")(x)\n",
        "\n",
        "model = keras.Model(inputs=inputs, outputs=outputs)\n",
        "model.compile(\n",
        "    optimizer=keras.optimizers.RMSprop(learning_rate=1e-3),\n",
        "    loss=keras.losses.SparseCategoricalCrossentropy(from_logits=True),\n",
        ")\n",
        "\n",
        "model.fit(x_train, y_train, batch_size=64, epochs=1)"
      ],
      "metadata": {
        "colab": {
          "base_uri": "https://localhost:8080/"
        },
        "id": "_fT_RWLVNpqq",
        "outputId": "63de6d5c-fe75-4e12-f99d-b900fb2e126e"
      },
      "execution_count": 13,
      "outputs": [
        {
          "output_type": "stream",
          "name": "stdout",
          "text": [
            "782/782 [==============================] - 3s 4ms/step - loss: 0.3364 - std_of_activation: 0.9801\n"
          ]
        },
        {
          "output_type": "execute_result",
          "data": {
            "text/plain": [
              "<keras.callbacks.History at 0x7ff83c95dd50>"
            ]
          },
          "metadata": {},
          "execution_count": 13
        }
      ]
    },
    {
      "cell_type": "code",
      "source": [
        "# you can also use the functional API\n",
        "inputs = keras.Input(shape=(784,), name=\"digits\")\n",
        "x1 = layers.Dense(64, activation=\"relu\", name=\"dense_1\")(inputs)\n",
        "x2 = layers.Dense(64, activation=\"relu\", name=\"dense_2\")(x1)\n",
        "outputs = layers.Dense(10, name=\"predictions\")(x2)\n",
        "model = keras.Model(inputs=inputs, outputs=outputs)\n",
        "\n",
        "# model.add_loss(loss_tensor)\n",
        "model.add_loss(tf.reduce_sum(x1) * 0.1)\n",
        "\n",
        "# model.add_metric(metric_tensor, name, aggregation)\n",
        "model.add_metric(keras.backend.std(x1), name=\"std_of_activation\", aggregation=\"mean\") \n",
        "\n",
        "model.compile(\n",
        "    optimizer=keras.optimizers.RMSprop(1e-3),\n",
        "    loss=keras.losses.SparseCategoricalCrossentropy(from_logits=True),\n",
        ")\n",
        "model.fit(x_train, y_train, batch_size=64, epochs=1)"
      ],
      "metadata": {
        "colab": {
          "base_uri": "https://localhost:8080/"
        },
        "id": "TR7AyAmwNpkl",
        "outputId": "90b1875c-ff7c-42cd-d185-fc671553b2f9"
      },
      "execution_count": 14,
      "outputs": [
        {
          "output_type": "stream",
          "name": "stdout",
          "text": [
            "782/782 [==============================] - 3s 4ms/step - loss: 2.5205 - std_of_activation: 0.0021\n"
          ]
        },
        {
          "output_type": "execute_result",
          "data": {
            "text/plain": [
              "<keras.callbacks.History at 0x7ff83c7f8f90>"
            ]
          },
          "metadata": {},
          "execution_count": 14
        }
      ]
    },
    {
      "cell_type": "code",
      "source": [
        "# When you pass losses via add_loss(), it becomes possible to call compile() \n",
        "# without a loss function, since the model already has a loss to minimize.\n",
        "\n",
        "# Consider the following LogisticEndpoint layer: it takes as inputs targets & \n",
        "# logits, and it tracks a crossentropy loss via add_loss(). It also tracks \n",
        "# classification accuracy via add_metric().\n",
        "\n",
        "class LogisticEndpoint(keras.layers.Layer):\n",
        "    def __init__(self, name=None):\n",
        "        super(LogisticEndpoint, self).__init__(name=name)\n",
        "        self.loss_fn = keras.losses.BinaryCrossentropy(from_logits=True)\n",
        "        self.accuracy_fn = keras.metrics.BinaryAccuracy()\n",
        "\n",
        "    def call(self, targets, logits, sample_weights=None):\n",
        "        # compute the training-time loss value and add it to the layer using `self.add_loss()`.\n",
        "        loss = self.loss_fn(targets, logits, sample_weights)\n",
        "        self.add_loss(loss)\n",
        "\n",
        "        # log accuracy as a metric and add it to the layer using `self.add_metric()`.\n",
        "        acc = self.accuracy_fn(targets, logits, sample_weights)\n",
        "        self.add_metric(acc, name=\"accuracy\")\n",
        "\n",
        "        # return the inference-time prediction tensor (for `.predict()`).\n",
        "        return tf.nn.softmax(logits)"
      ],
      "metadata": {
        "id": "nU8Gn2o1NpSf"
      },
      "execution_count": 15,
      "outputs": []
    },
    {
      "cell_type": "code",
      "source": [
        "# Can be used in a model with two inputs (input data & targets), compiled \n",
        "# without a loss argument, like this:\n",
        "\n",
        "import numpy as np\n",
        "\n",
        "inputs = keras.Input(shape=(3,), name=\"inputs\")\n",
        "targets = keras.Input(shape=(10,), name=\"targets\")\n",
        "logits = keras.layers.Dense(10)(inputs)\n",
        "predictions = LogisticEndpoint(name=\"predictions\")(logits, targets)\n",
        "\n",
        "model = keras.Model(inputs=[inputs, targets], outputs=predictions)\n",
        "model.compile(optimizer=\"adam\")  # No loss argument!\n",
        "\n",
        "data = {\n",
        "    \"inputs\": np.random.random((3, 3)),\n",
        "    \"targets\": np.random.random((3, 10)),\n",
        "}\n",
        "model.fit(data)"
      ],
      "metadata": {
        "colab": {
          "base_uri": "https://localhost:8080/"
        },
        "id": "ipSfyE9NPQK4",
        "outputId": "cd8587b8-046d-4c19-e92a-efadac269146"
      },
      "execution_count": 16,
      "outputs": [
        {
          "output_type": "stream",
          "name": "stdout",
          "text": [
            "1/1 [==============================] - 0s 362ms/step - loss: 0.9305 - binary_accuracy: 0.0000e+00\n"
          ]
        },
        {
          "output_type": "execute_result",
          "data": {
            "text/plain": [
              "<keras.callbacks.History at 0x7ff83668a650>"
            ]
          },
          "metadata": {},
          "execution_count": 16
        }
      ]
    },
    {
      "cell_type": "markdown",
      "source": [
        "## Train and evaluation with tf.Dataset"
      ],
      "metadata": {
        "id": "_54qsHOKNqf9"
      }
    },
    {
      "cell_type": "code",
      "source": [
        "# tf.data.Dataset is fast, scalable, takes care of shuffling and\n",
        "# slicing data, interacts with a model attributes\n",
        "\n",
        "model = get_compiled_model()\n",
        "\n",
        "# training Dataset (shuffle and slice)\n",
        "train_dataset = tf.data.Dataset.from_tensor_slices((x_train, y_train))\n",
        "train_dataset = train_dataset.shuffle(buffer_size=1024).batch(64)\n",
        "\n",
        "# test dataset.\n",
        "test_dataset = tf.data.Dataset.from_tensor_slices((x_test, y_test))\n",
        "test_dataset = test_dataset.batch(64)\n",
        "\n",
        "# Since the dataset already takes care of batching, # we don't pass a `batch_size` argument.\n",
        "model.fit(train_dataset, epochs=3)\n",
        "\n",
        "# You can also evaluate or predict on a dataset.\n",
        "print(\"Evaluate\")\n",
        "result = model.evaluate(test_dataset)\n",
        "\n",
        "dict(zip(model.metrics_names, result))"
      ],
      "metadata": {
        "colab": {
          "base_uri": "https://localhost:8080/"
        },
        "id": "TeX3BUFANsqt",
        "outputId": "26f8a5a3-03ef-45c1-ec18-00602f7cca27"
      },
      "execution_count": 17,
      "outputs": [
        {
          "output_type": "stream",
          "name": "stdout",
          "text": [
            "Epoch 1/3\n",
            "782/782 [==============================] - 4s 4ms/step - loss: 0.3472 - sparse_categorical_accuracy: 0.9022\n",
            "Epoch 2/3\n",
            "782/782 [==============================] - 3s 4ms/step - loss: 0.1617 - sparse_categorical_accuracy: 0.9517\n",
            "Epoch 3/3\n",
            "782/782 [==============================] - 4s 5ms/step - loss: 0.1180 - sparse_categorical_accuracy: 0.9644\n",
            "Evaluate\n",
            "157/157 [==============================] - 1s 5ms/step - loss: 0.1297 - sparse_categorical_accuracy: 0.9602\n"
          ]
        },
        {
          "output_type": "execute_result",
          "data": {
            "text/plain": [
              "{'loss': 0.12969794869422913,\n",
              " 'sparse_categorical_accuracy': 0.9602000117301941}"
            ]
          },
          "metadata": {},
          "execution_count": 17
        }
      ]
    },
    {
      "cell_type": "code",
      "source": [
        "# you can use `steps_per_epoch` to train only on a few batches per epoch\n",
        "# NB the next will be consecutive since the dataset is not reset at the end\n",
        "# of each poch\n",
        "\n",
        "model = get_compiled_model()\n",
        "\n",
        "# training dataset\n",
        "train_dataset = tf.data.Dataset.from_tensor_slices((x_train, y_train))\n",
        "train_dataset = train_dataset.shuffle(buffer_size=1024).batch(64)\n",
        "\n",
        "# only use the 100 batches per epoch (that's 64 * 100 samples)\n",
        "model.fit(train_dataset, epochs=3, steps_per_epoch=100)"
      ],
      "metadata": {
        "colab": {
          "base_uri": "https://localhost:8080/"
        },
        "id": "rsBt-aZOQngu",
        "outputId": "977a01b6-b889-435f-96c0-482b20246f00"
      },
      "execution_count": 18,
      "outputs": [
        {
          "output_type": "stream",
          "name": "stdout",
          "text": [
            "Epoch 1/3\n",
            "100/100 [==============================] - 1s 4ms/step - loss: 0.8013 - sparse_categorical_accuracy: 0.7884\n",
            "Epoch 2/3\n",
            "100/100 [==============================] - 0s 5ms/step - loss: 0.3735 - sparse_categorical_accuracy: 0.8972\n",
            "Epoch 3/3\n",
            "100/100 [==============================] - 0s 4ms/step - loss: 0.3269 - sparse_categorical_accuracy: 0.9052\n"
          ]
        },
        {
          "output_type": "execute_result",
          "data": {
            "text/plain": [
              "<keras.callbacks.History at 0x7ff835c15310>"
            ]
          },
          "metadata": {},
          "execution_count": 18
        }
      ]
    },
    {
      "cell_type": "code",
      "source": [
        "# can also pass a validation tf.data.Dataset, eventually with `validation_steps`\n",
        "\n",
        "model = get_compiled_model()\n",
        "\n",
        "# training dataset\n",
        "train_dataset = tf.data.Dataset.from_tensor_slices((x_train, y_train))\n",
        "train_dataset = train_dataset.shuffle(buffer_size=1024).batch(64)\n",
        "\n",
        "# validation dataset\n",
        "val_dataset = tf.data.Dataset.from_tensor_slices((x_val, y_val))\n",
        "val_dataset = val_dataset.batch(64)\n",
        "\n",
        "model.fit(train_dataset, epochs=1, validation_data=val_dataset)"
      ],
      "metadata": {
        "colab": {
          "base_uri": "https://localhost:8080/"
        },
        "id": "zX9j8bZIRwAQ",
        "outputId": "a97aa56f-85e6-4bcf-851b-e7f17a8ef19d"
      },
      "execution_count": 19,
      "outputs": [
        {
          "output_type": "stream",
          "name": "stdout",
          "text": [
            "782/782 [==============================] - 5s 6ms/step - loss: 0.3370 - sparse_categorical_accuracy: 0.9051 - val_loss: 0.1945 - val_sparse_categorical_accuracy: 0.9435\n"
          ]
        },
        {
          "output_type": "execute_result",
          "data": {
            "text/plain": [
              "<keras.callbacks.History at 0x7ff835ac9210>"
            ]
          },
          "metadata": {},
          "execution_count": 19
        }
      ]
    },
    {
      "cell_type": "markdown",
      "source": [
        "## Sample and class weights"
      ],
      "metadata": {
        "id": "DekECTe6SOBy"
      }
    },
    {
      "cell_type": "code",
      "source": [
        "# class weights\n",
        "\n",
        "import numpy as np\n",
        "\n",
        "class_weight = {\n",
        "    0: 1.0, 1: 1.0,\n",
        "    2: 1.0, 3: 1.0,\n",
        "    4: 1.0, 5: 2.0, # more important\n",
        "    6: 1.0, 7: 1.0,\n",
        "    8: 1.0, 9: 1.0,\n",
        "}\n",
        "\n",
        "print(\"Fit with class weight\")\n",
        "model = get_compiled_model()\n",
        "model.fit(x_train, y_train, class_weight=class_weight, batch_size=64, epochs=1)"
      ],
      "metadata": {
        "colab": {
          "base_uri": "https://localhost:8080/"
        },
        "id": "BuIEpa5ASTmM",
        "outputId": "43ff7483-7c3f-4d18-bea6-158590176287"
      },
      "execution_count": 20,
      "outputs": [
        {
          "output_type": "stream",
          "name": "stdout",
          "text": [
            "Fit with class weight\n",
            "782/782 [==============================] - 4s 5ms/step - loss: 0.3689 - sparse_categorical_accuracy: 0.9020\n"
          ]
        },
        {
          "output_type": "execute_result",
          "data": {
            "text/plain": [
              "<keras.callbacks.History at 0x7ff835957a90>"
            ]
          },
          "metadata": {},
          "execution_count": 20
        }
      ]
    },
    {
      "cell_type": "code",
      "source": [
        "# sample weight\n",
        "\n",
        "sample_weight = np.ones(shape=(len(y_train),))\n",
        "sample_weight[y_train == 5] = 2.0\n",
        "\n",
        "print(\"Fit with sample weight\")\n",
        "model = get_compiled_model()\n",
        "model.fit(x_train, y_train, sample_weight=sample_weight, batch_size=64, epochs=1)"
      ],
      "metadata": {
        "colab": {
          "base_uri": "https://localhost:8080/"
        },
        "id": "42laILqkStpZ",
        "outputId": "193a52ee-9f76-49d7-954e-da55e5e3478a"
      },
      "execution_count": 21,
      "outputs": [
        {
          "output_type": "stream",
          "name": "stdout",
          "text": [
            "Fit with sample weight\n",
            "782/782 [==============================] - 4s 4ms/step - loss: 0.3708 - sparse_categorical_accuracy: 0.9031\n"
          ]
        },
        {
          "output_type": "execute_result",
          "data": {
            "text/plain": [
              "<keras.callbacks.History at 0x7ff835836690>"
            ]
          },
          "metadata": {},
          "execution_count": 21
        }
      ]
    },
    {
      "cell_type": "code",
      "source": [
        "# example with tf.data.Dataset\n",
        "\n",
        "sample_weight = np.ones(shape=(len(y_train),))\n",
        "sample_weight[y_train == 5] = 2.0\n",
        "\n",
        "# create a Dataset that includes sample weights (3rd element in the return tuple).\n",
        "train_dataset = tf.data.Dataset.from_tensor_slices((x_train, y_train, sample_weight))\n",
        "train_dataset = train_dataset.shuffle(buffer_size=1024).batch(64)\n",
        "\n",
        "# model\n",
        "model = get_compiled_model()\n",
        "model.fit(train_dataset, epochs=1)"
      ],
      "metadata": {
        "colab": {
          "base_uri": "https://localhost:8080/"
        },
        "id": "RcLWkDO_SwkM",
        "outputId": "2d8e7762-e61a-4efa-9bc7-da5685c01997"
      },
      "execution_count": 22,
      "outputs": [
        {
          "output_type": "stream",
          "name": "stdout",
          "text": [
            "782/782 [==============================] - 4s 4ms/step - loss: 0.3783 - sparse_categorical_accuracy: 0.9017\n"
          ]
        },
        {
          "output_type": "execute_result",
          "data": {
            "text/plain": [
              "<keras.callbacks.History at 0x7ff834e95890>"
            ]
          },
          "metadata": {},
          "execution_count": 22
        }
      ]
    },
    {
      "cell_type": "markdown",
      "source": [
        "## Multi input and multi output models"
      ],
      "metadata": {
        "id": "QppqK8SZSULX"
      }
    },
    {
      "cell_type": "code",
      "source": [
        "# two inputs: a timeseries and an image\n",
        "image_input = keras.Input(shape=(32, 32, 3), name=\"img_input\")\n",
        "timeseries_input = keras.Input(shape=(None, 10), name=\"ts_input\")\n",
        "\n",
        "x1 = layers.Conv2D(3, 3)(image_input)\n",
        "x1 = layers.GlobalMaxPooling2D()(x1)\n",
        "\n",
        "x2 = layers.Conv1D(3, 3)(timeseries_input)\n",
        "x2 = layers.GlobalMaxPooling1D()(x2)\n",
        "\n",
        "x = layers.concatenate([x1, x2]) # shared layer\n",
        "\n",
        "# two outputs\n",
        "score_output = layers.Dense(1, name=\"score_output\")(x)\n",
        "class_output = layers.Dense(5, name=\"class_output\")(x)\n",
        "\n",
        "model = keras.Model(\n",
        "    inputs=[image_input, timeseries_input], outputs=[score_output, class_output]\n",
        ")"
      ],
      "metadata": {
        "id": "fsOAAYvlSWgN"
      },
      "execution_count": 23,
      "outputs": []
    },
    {
      "cell_type": "code",
      "source": [
        "# plot the model\n",
        "keras.utils.plot_model(model, \"multi_input_and_output_model.png\", show_shapes=True)"
      ],
      "metadata": {
        "colab": {
          "base_uri": "https://localhost:8080/",
          "height": 533
        },
        "id": "NumTwBOUTr2Y",
        "outputId": "45290e78-0f68-4a71-c45d-36336053bbda"
      },
      "execution_count": 24,
      "outputs": [
        {
          "output_type": "execute_result",
          "data": {
            "image/png": "[encoded data removed]",
            "text/plain": [
              "<IPython.core.display.Image object>"
            ]
          },
          "metadata": {},
          "execution_count": 24
        }
      ]
    },
    {
      "cell_type": "code",
      "source": [
        "# per-output losses and metrics, with weights\n",
        "model.compile(\n",
        "    optimizer=keras.optimizers.RMSprop(1e-3),\n",
        "    loss={\n",
        "        \"score_output\": keras.losses.MeanSquaredError(),\n",
        "        \"class_output\": keras.losses.CategoricalCrossentropy(),\n",
        "    },\n",
        "    metrics={\n",
        "        \"score_output\": [\n",
        "            keras.metrics.MeanAbsolutePercentageError(),\n",
        "            keras.metrics.MeanAbsoluteError(),\n",
        "        ],\n",
        "        \"class_output\": [keras.metrics.CategoricalAccuracy()],\n",
        "    },\n",
        "    loss_weights={\"score_output\": 2.0, \"class_output\": 1.0},\n",
        ")"
      ],
      "metadata": {
        "id": "Tn4PvhYMUo5N"
      },
      "execution_count": 25,
      "outputs": []
    },
    {
      "cell_type": "code",
      "source": [
        "# generate dummy NumPy data\n",
        "img_data = np.random.random_sample(size=(100, 32, 32, 3))\n",
        "ts_data = np.random.random_sample(size=(100, 20, 10))\n",
        "score_targets = np.random.random_sample(size=(100, 1))\n",
        "class_targets = np.random.random_sample(size=(100, 5))\n",
        "\n",
        "# fit on lists\n",
        "model.fit([img_data, ts_data], [score_targets, class_targets], batch_size=32, epochs=1)\n",
        "\n",
        "# alternatively, fit on dicts\n",
        "model.fit(\n",
        "    {\"img_input\": img_data, \"ts_input\": ts_data},\n",
        "    {\"score_output\": score_targets, \"class_output\": class_targets},\n",
        "    batch_size=32,\n",
        "    epochs=1,\n",
        ")"
      ],
      "metadata": {
        "colab": {
          "base_uri": "https://localhost:8080/"
        },
        "id": "MXI3bj2rU9KV",
        "outputId": "02d01bac-bd99-4fb1-c1ff-2a1f1ec197fd"
      },
      "execution_count": 26,
      "outputs": [
        {
          "output_type": "stream",
          "name": "stdout",
          "text": [
            "4/4 [==============================] - 1s 13ms/step - loss: 17.0330 - score_output_loss: 0.4681 - class_output_loss: 16.0968 - score_output_mean_absolute_percentage_error: 421.9004 - score_output_mean_absolute_error: 0.6057 - class_output_categorical_accuracy: 0.2000\n",
            "4/4 [==============================] - 1s 14ms/step - loss: 19.7446 - score_output_loss: 0.3279 - class_output_loss: 19.0888 - score_output_mean_absolute_percentage_error: 360.4246 - score_output_mean_absolute_error: 0.4873 - class_output_categorical_accuracy: 0.2000\n"
          ]
        },
        {
          "output_type": "execute_result",
          "data": {
            "text/plain": [
              "<keras.callbacks.History at 0x7ff834a5b310>"
            ]
          },
          "metadata": {},
          "execution_count": 26
        }
      ]
    },
    {
      "cell_type": "code",
      "source": [
        "# fit using tf.data.Dataset\n",
        "train_dataset = tf.data.Dataset.from_tensor_slices(\n",
        "    (\n",
        "        {\"img_input\": img_data, \"ts_input\": ts_data},\n",
        "        {\"score_output\": score_targets, \"class_output\": class_targets},\n",
        "    )\n",
        ")\n",
        "train_dataset = train_dataset.shuffle(buffer_size=1024).batch(64)\n",
        "\n",
        "model.fit(train_dataset, epochs=1)"
      ],
      "metadata": {
        "colab": {
          "base_uri": "https://localhost:8080/"
        },
        "id": "YUUYG0chVDk1",
        "outputId": "3e163982-bea1-4178-d21e-9af5981f994e"
      },
      "execution_count": 27,
      "outputs": [
        {
          "output_type": "stream",
          "name": "stdout",
          "text": [
            "2/2 [==============================] - 1s 22ms/step - loss: 20.5048 - score_output_loss: 0.2443 - class_output_loss: 20.0162 - score_output_mean_absolute_percentage_error: 316.8139 - score_output_mean_absolute_error: 0.4101 - class_output_categorical_accuracy: 0.2000\n"
          ]
        },
        {
          "output_type": "execute_result",
          "data": {
            "text/plain": [
              "<keras.callbacks.History at 0x7ff83cbadb10>"
            ]
          },
          "metadata": {},
          "execution_count": 27
        }
      ]
    },
    {
      "cell_type": "markdown",
      "source": [
        "## Callbacks"
      ],
      "metadata": {
        "id": "3azFJyA9SW_p"
      }
    },
    {
      "cell_type": "code",
      "source": [
        "# most useful: EarlyStopping, ReduceLROnPlateau, ModelCheckpoint, Tensorboard\n",
        "\n",
        "model = get_compiled_model()\n",
        "\n",
        "callbacks = [\n",
        "    keras.callbacks.EarlyStopping(\n",
        "        monitor=\"val_loss\", # stop training when `val_loss` is no longer improving\n",
        "        min_delta=1e-2, # \"no longer improving\" being defined as \"no better than 1e-2 less\"\n",
        "        patience=2, # \"no longer improving\" being further defined as \"for at least 2 epochs\"\n",
        "        verbose=1,\n",
        "    )\n",
        "]\n",
        "model.fit(\n",
        "    x_train,\n",
        "    y_train,\n",
        "    epochs=20,\n",
        "    batch_size=64,\n",
        "    callbacks=callbacks,\n",
        "    validation_split=0.2,\n",
        ")"
      ],
      "metadata": {
        "colab": {
          "base_uri": "https://localhost:8080/"
        },
        "id": "VgyV4fb3SX99",
        "outputId": "0900abcf-fa25-46c3-c4f0-8e1d14f1d531"
      },
      "execution_count": 28,
      "outputs": [
        {
          "output_type": "stream",
          "name": "stdout",
          "text": [
            "Epoch 1/20\n",
            "625/625 [==============================] - 4s 6ms/step - loss: 0.3648 - sparse_categorical_accuracy: 0.8962 - val_loss: 0.2424 - val_sparse_categorical_accuracy: 0.9275\n",
            "Epoch 2/20\n",
            "625/625 [==============================] - 2s 4ms/step - loss: 0.1668 - sparse_categorical_accuracy: 0.9516 - val_loss: 0.1662 - val_sparse_categorical_accuracy: 0.9502\n",
            "Epoch 3/20\n",
            "625/625 [==============================] - 3s 4ms/step - loss: 0.1228 - sparse_categorical_accuracy: 0.9632 - val_loss: 0.1613 - val_sparse_categorical_accuracy: 0.9527\n",
            "Epoch 4/20\n",
            "625/625 [==============================] - 5s 7ms/step - loss: 0.0958 - sparse_categorical_accuracy: 0.9703 - val_loss: 0.1402 - val_sparse_categorical_accuracy: 0.9578\n",
            "Epoch 5/20\n",
            "625/625 [==============================] - 4s 6ms/step - loss: 0.0785 - sparse_categorical_accuracy: 0.9764 - val_loss: 0.1479 - val_sparse_categorical_accuracy: 0.9587\n",
            "Epoch 6/20\n",
            "625/625 [==============================] - 5s 8ms/step - loss: 0.0658 - sparse_categorical_accuracy: 0.9799 - val_loss: 0.1328 - val_sparse_categorical_accuracy: 0.9603\n",
            "Epoch 6: early stopping\n"
          ]
        },
        {
          "output_type": "execute_result",
          "data": {
            "text/plain": [
              "<keras.callbacks.History at 0x7ff834c8e590>"
            ]
          },
          "metadata": {},
          "execution_count": 28
        }
      ]
    },
    {
      "cell_type": "markdown",
      "source": [
        "### Custom callbacks"
      ],
      "metadata": {
        "id": "PTxyTYBiV1Do"
      }
    },
    {
      "cell_type": "code",
      "source": [
        "# A custom callback has access to its associated model through the class \n",
        "# property self.model.\n",
        "# Simple example saving a list of per-batch loss values during training:\n",
        "\n",
        "class LossHistory(keras.callbacks.Callback):\n",
        "    def on_train_begin(self, logs):\n",
        "        self.per_batch_losses = []\n",
        "\n",
        "    def on_batch_end(self, batch, logs):\n",
        "        self.per_batch_losses.append(logs.get(\"loss\"))"
      ],
      "metadata": {
        "id": "_kvRbWUSV2VP"
      },
      "execution_count": 29,
      "outputs": []
    },
    {
      "cell_type": "markdown",
      "source": [
        "### Model checkpoint"
      ],
      "metadata": {
        "id": "hKHegxINZyDX"
      }
    },
    {
      "cell_type": "code",
      "source": [
        "# When training model on relatively large datasets, it's crucial to save \n",
        "# checkpoints of your model at frequent intervals.\n",
        "# The easiest way to achieve this is with the ModelCheckpoint callback:\n",
        "\n",
        "model = get_compiled_model()\n",
        "\n",
        "callbacks = [\n",
        "    keras.callbacks.ModelCheckpoint(\n",
        "        filepath=\"mymodel_{epoch}\", # path where to save the model\n",
        "        save_best_only=True,  # only save a model if `val_loss` has improved.\n",
        "        monitor=\"val_loss\",\n",
        "        verbose=1,\n",
        "    )\n",
        "]\n",
        "model.fit(\n",
        "    x_train, y_train, epochs=2, batch_size=64, callbacks=callbacks, validation_split=0.2\n",
        ")"
      ],
      "metadata": {
        "colab": {
          "base_uri": "https://localhost:8080/"
        },
        "id": "1Pb5-IjrZzcI",
        "outputId": "e8f4f216-6d1d-4ea4-cc79-f018a2243d24"
      },
      "execution_count": 30,
      "outputs": [
        {
          "output_type": "stream",
          "name": "stdout",
          "text": [
            "Epoch 1/2\n",
            "612/625 [============================>.] - ETA: 0s - loss: 0.3739 - sparse_categorical_accuracy: 0.8953\n",
            "Epoch 1: val_loss improved from inf to 0.22428, saving model to mymodel_1\n",
            "625/625 [==============================] - 4s 6ms/step - loss: 0.3701 - sparse_categorical_accuracy: 0.8964 - val_loss: 0.2243 - val_sparse_categorical_accuracy: 0.9325\n",
            "Epoch 2/2\n",
            "613/625 [============================>.] - ETA: 0s - loss: 0.1660 - sparse_categorical_accuracy: 0.9505\n",
            "Epoch 2: val_loss improved from 0.22428 to 0.17984, saving model to mymodel_2\n",
            "625/625 [==============================] - 3s 5ms/step - loss: 0.1657 - sparse_categorical_accuracy: 0.9506 - val_loss: 0.1798 - val_sparse_categorical_accuracy: 0.9463\n"
          ]
        },
        {
          "output_type": "execute_result",
          "data": {
            "text/plain": [
              "<keras.callbacks.History at 0x7ff83cf62f90>"
            ]
          },
          "metadata": {},
          "execution_count": 30
        }
      ]
    },
    {
      "cell_type": "code",
      "source": [
        "# Fault-tolerance with ModelCheckpoint callbacks: the ability to restart \n",
        "# training from the last saved state of the model in case training gets \n",
        "# randomly interrupted. Here's a basic example:\n",
        "\n",
        "import os\n",
        "\n",
        "# prepare a directory to store all the checkpoints.\n",
        "checkpoint_dir = \"./ckpt\"\n",
        "if not os.path.exists(checkpoint_dir):\n",
        "    os.makedirs(checkpoint_dir)\n",
        "\n",
        "\n",
        "def make_or_restore_model():\n",
        "    # either restore the latest model, or create a fresh one if there is no checkpoint available.\n",
        "    checkpoints = [checkpoint_dir + \"/\" + name for name in os.listdir(checkpoint_dir)]\n",
        "    if checkpoints:\n",
        "        latest_checkpoint = max(checkpoints, key=os.path.getctime)\n",
        "        print(\"Restoring from\", latest_checkpoint)\n",
        "        return keras.models.load_model(latest_checkpoint)\n",
        "    print(\"Creating a new model\")\n",
        "    return get_compiled_model()\n",
        "\n",
        "\n",
        "model = make_or_restore_model()\n",
        "callbacks = [\n",
        "    # This callback saves a SavedModel every 100 batches. We include the training loss in the saved model name.\n",
        "    keras.callbacks.ModelCheckpoint(\n",
        "        filepath=checkpoint_dir + \"/ckpt-loss={loss:.2f}\", save_freq=100\n",
        "    )\n",
        "]\n",
        "\n",
        "model.fit(x_train, y_train, epochs=1, callbacks=callbacks)"
      ],
      "metadata": {
        "colab": {
          "base_uri": "https://localhost:8080/"
        },
        "id": "WJ0FdMdKaN5z",
        "outputId": "b1d81537-e224-41fb-c22e-a4cc71e7f521"
      },
      "execution_count": 31,
      "outputs": [
        {
          "output_type": "stream",
          "name": "stdout",
          "text": [
            "Creating a new model\n",
            "1563/1563 [==============================] - 18s 11ms/step - loss: 0.3028 - sparse_categorical_accuracy: 0.9121\n"
          ]
        },
        {
          "output_type": "execute_result",
          "data": {
            "text/plain": [
              "<keras.callbacks.History at 0x7ff82c6e2790>"
            ]
          },
          "metadata": {},
          "execution_count": 31
        }
      ]
    }
  ]
}