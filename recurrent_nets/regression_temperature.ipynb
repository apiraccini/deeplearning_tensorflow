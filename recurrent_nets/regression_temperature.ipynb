{
 "cells": [
  {
   "cell_type": "markdown",
   "metadata": {},
   "source": [
    "# Deep learning for time series"
   ]
  },
  {
   "cell_type": "code",
   "execution_count": null,
   "metadata": {},
   "outputs": [],
   "source": [
    "import tensorflow as tf\n",
    "from tensorflow import keras\n",
    "from keras import layers\n",
    "\n",
    "import pandas as pd\n",
    "import numpy as np\n",
    "import matplotlib.pyplot as plt"
   ]
  },
  {
   "cell_type": "markdown",
   "metadata": {},
   "source": [
    "## Load data"
   ]
  },
  {
   "cell_type": "code",
   "execution_count": null,
   "metadata": {},
   "outputs": [],
   "source": [
    "# download and unzip data\n",
    "# weather timeseries dataset recorded at the weather station at the\n",
    "# Max Planck Institute for Biogeochemistry in Jena, Germany.1\n",
    "# In this dataset, 14 different quantities were recorded every \n",
    "# 10 minutes over several years\n",
    "\n",
    "from zipfile import ZipFile\n",
    "import os\n",
    "#os.mkdir('data_folder')\n",
    "\n",
    "uri = \"https://storage.googleapis.com/tensorflow/tf-keras-datasets/jena_climate_2009_2016.csv.zip\"\n",
    "zip_path = keras.utils.get_file(origin=uri, fname= \"jena_climate_2009_2016.csv.zip\")\n",
    "zip_file = ZipFile(zip_path)\n",
    "zip_file.extractall(path='./data_folder')\n",
    "\n",
    "csv_path = \"./data_folder/jena_climate_2009_2016.csv\"\n",
    "raw_data = pd.read_csv(csv_path)"
   ]
  },
  {
   "cell_type": "code",
   "execution_count": null,
   "metadata": {},
   "outputs": [],
   "source": [
    "raw_data.info()\n",
    "raw_data.describe()"
   ]
  },
  {
   "cell_type": "code",
   "execution_count": null,
   "metadata": {},
   "outputs": [],
   "source": [
    "raw_data = raw_data.drop(columns=['Date Time'])\n",
    "temperature = raw_data.iloc[:,1]\n",
    "plt.plot(temperature)"
   ]
  },
  {
   "cell_type": "code",
   "execution_count": null,
   "metadata": {},
   "outputs": [],
   "source": [
    "# data recorded every 10 minutes, so 24*6=144 records per day\n",
    "plt.plot(range(1440), temperature[:1440])"
   ]
  },
  {
   "cell_type": "markdown",
   "metadata": {},
   "source": [
    "## Data preparation"
   ]
  },
  {
   "cell_type": "code",
   "execution_count": null,
   "metadata": {},
   "outputs": [],
   "source": [
    "# number of samples for each split\n",
    "n_train = int(0.5 * len(raw_data))\n",
    "n_val = int(0.25 * len(raw_data))\n",
    "n_test = len(raw_data) - n_train - n_val\n",
    "\n",
    "print(f\"train samples: {n_train}\")\n",
    "print(f\"val samples: {n_val}\")\n",
    "print(f\"test samples: {n_test}\")\n"
   ]
  },
  {
   "cell_type": "code",
   "execution_count": null,
   "metadata": {},
   "outputs": [],
   "source": [
    "# standardize data\n",
    "mean = raw_data[:n_train].mean(axis=0)\n",
    "raw_data -= mean\n",
    "std = raw_data[:n_train].std(axis=0)\n",
    "raw_data /= std"
   ]
  },
  {
   "cell_type": "code",
   "execution_count": null,
   "metadata": {},
   "outputs": [],
   "source": [
    "# given data covering the previous five days and sampled once per hour, \n",
    "# can we predict the temperature in 24 hours?\n",
    "\n",
    "# create a Dataset object that yields batches of data from the past five days\n",
    "# along with a target temperature 24 hours in the future.\n",
    "\n",
    "# NB\n",
    "int_sequence = np.arange(10)\n",
    "dummy_dataset = keras.utils.timeseries_dataset_from_array(\n",
    "    data=int_sequence[:-3],\n",
    "    targets=int_sequence[3:], # target is next step in the series\n",
    "    sequence_length=3, # sequences 3 steps long\n",
    "    batch_size=2,\n",
    ")\n",
    "for inputs, targets in dummy_dataset:\n",
    "    for i in range(inputs.shape[0]):\n",
    "        print([int(x) for x in inputs[i]], int(targets[i]))"
   ]
  },
  {
   "cell_type": "code",
   "execution_count": null,
   "metadata": {},
   "outputs": [],
   "source": [
    "sampling_rate = 6 # sample one data point per hour\n",
    "sequence_length = 120 # sequence is 5 days long -> 5*24=120 hours\n",
    "delay = sampling_rate * (sequence_length + 24 - 1) # target is temperature 24 hours after the sequence\n",
    "batch_size = 128\n",
    "\n",
    "train_ds = keras.utils.timeseries_dataset_from_array(\n",
    "    raw_data[:-delay],\n",
    "    targets=temperature[delay:],\n",
    "    sampling_rate=sampling_rate,\n",
    "    sequence_length=sequence_length,\n",
    "    shuffle=True,\n",
    "    batch_size=batch_size,\n",
    "    start_index=0,\n",
    "    end_index=n_train)\n",
    "\n",
    "val_ds = keras.utils.timeseries_dataset_from_array(\n",
    "    raw_data[:-delay],\n",
    "    targets=temperature[delay:],\n",
    "    sampling_rate=sampling_rate,\n",
    "    sequence_length=sequence_length,\n",
    "    #shuffle=True,\n",
    "    batch_size=batch_size,\n",
    "    start_index=n_train,\n",
    "    end_index=n_train + n_val)\n",
    "\n",
    "test_ds = keras.utils.timeseries_dataset_from_array(\n",
    "    raw_data[:-delay],\n",
    "    targets=temperature[delay:],\n",
    "    sampling_rate=sampling_rate,\n",
    "    sequence_length=sequence_length,\n",
    "    #shuffle=True,\n",
    "    batch_size=batch_size,\n",
    "    start_index=n_train + n_val)"
   ]
  },
  {
   "cell_type": "code",
   "execution_count": null,
   "metadata": {},
   "outputs": [],
   "source": [
    "# check shapes\n",
    "for samples, targets in train_ds:\n",
    "    print(f\"samples shape: {samples.shape}\")\n",
    "    print(f\"targets shape: {targets.shape}\")\n",
    "    break"
   ]
  },
  {
   "cell_type": "markdown",
   "metadata": {},
   "source": [
    "## Modeling"
   ]
  },
  {
   "cell_type": "code",
   "execution_count": null,
   "metadata": {},
   "outputs": [],
   "source": [
    "def get_callbacks(name):\n",
    "    callbacks = [\n",
    "        keras.callbacks.ModelCheckpoint(filepath='./models/'+name+'.h5', save_best_only=True),\n",
    "        keras.callbacks.ReduceLROnPlateau(monitor='val_loss', factor=0.8, patience=3, min_lr=1e-4)\n",
    "    ]\n",
    "    return callbacks"
   ]
  },
  {
   "cell_type": "markdown",
   "metadata": {},
   "source": [
    "### Simple baseline"
   ]
  },
  {
   "cell_type": "code",
   "execution_count": null,
   "metadata": {},
   "outputs": [],
   "source": [
    "# just predict temperature 24 days from now with current temperature\n",
    "def evaluate_naive_method(dataset):\n",
    "    total_abs_err = 0.\n",
    "    samples_seen = 0\n",
    "    for samples, targets in dataset:\n",
    "        preds = samples[:, -1, 1] * std[1] + mean[1]\n",
    "        total_abs_err += np.sum(np.abs(preds - targets))\n",
    "        samples_seen += samples.shape[0]\n",
    "    return total_abs_err / samples_seen\n",
    "\n",
    "print(f\"Validation MAE: {evaluate_naive_method(val_ds):.3f}\")\n",
    "print(f\"Test MAE: {evaluate_naive_method(test_ds):.3f}\")"
   ]
  },
  {
   "cell_type": "markdown",
   "metadata": {},
   "source": [
    "### Simple net"
   ]
  },
  {
   "cell_type": "code",
   "execution_count": null,
   "metadata": {},
   "outputs": [],
   "source": [
    "# build and compile\n",
    "inputs = keras.Input(shape = (sequence_length, raw_data.shape[1])) # 120*14\n",
    "x = layers.Flatten()(inputs)\n",
    "x = layers.Dense(16, activation='relu')(x)\n",
    "x = layers.Dropout(0.2)(x)\n",
    "outputs = layers.Dense(1)(x)\n",
    "\n",
    "model = keras.Model(inputs=inputs, outputs=outputs, name='simple_dense')\n",
    "\n",
    "model.compile(\n",
    "    optimizer = keras.optimizers.RMSprop(learning_rate=0.001),\n",
    "    loss = keras.losses.MeanSquaredError(),\n",
    "    metrics = [keras.metrics.MeanAbsoluteError(name='mae')]\n",
    ")\n",
    "\n",
    "# training\n",
    "history = model.fit(\n",
    "    train_ds,\n",
    "    epochs = 10,\n",
    "    validation_data = val_ds,\n",
    "    callbacks = get_callbacks(model.name)\n",
    ")\n",
    "\n",
    "model = keras.models.load_model('./models/'+model.name+'.h5')\n",
    "\n",
    "# evaluation\n",
    "_, val_mae  = model.evaluate(val_ds)\n",
    "_, test_mae  = model.evaluate(test_ds)\n",
    "\n",
    "print(f\"Validation MAE: {val_mae:.3f}\")\n",
    "print(f\"Test MAE: {test_mae:.3f}\")"
   ]
  },
  {
   "cell_type": "markdown",
   "metadata": {},
   "source": [
    "### Using 1d convolutions"
   ]
  },
  {
   "cell_type": "code",
   "execution_count": null,
   "metadata": {},
   "outputs": [],
   "source": [
    "# IDEA\n",
    "# - a temporal convnet could reuse the same representations across different days,\n",
    "#   much like a spatial convnet can reuse the same representations across different \n",
    "#   locations in an image\n",
    "# - 1d convnets are ideal for any sequence data that follows the translation \n",
    "#   invariance assumption (a window's behaviour is costant across the sequence)\n",
    "# BUT\n",
    "# - this data is only translation-invariant for a specific timescale\n",
    "# - order matters, here pooling destroys it\n",
    "\n",
    "# build and compile\n",
    "inputs = keras.Input(shape = (sequence_length, raw_data.shape[1])) # 120*14\n",
    "x = layers.Conv1D(8, 24, activation=\"relu\")(inputs) # 24 hours at a time\n",
    "x = layers.MaxPooling1D(2)(x)\n",
    "x = layers.Conv1D(8, 12, activation=\"relu\")(x)\n",
    "x = layers.MaxPooling1D(2)(x)\n",
    "x = layers.Conv1D(8, 6, activation=\"relu\")(x)\n",
    "x = layers.GlobalAveragePooling1D()(x)\n",
    "outputs = layers.Dense(1)(x)\n",
    "\n",
    "model = keras.Model(inputs=inputs, outputs=outputs, name='simple_conv1d')\n",
    "\n",
    "model.compile(\n",
    "    optimizer = keras.optimizers.RMSprop(learning_rate=0.001),\n",
    "    loss = keras.losses.MeanSquaredError(),\n",
    "    metrics = [keras.metrics.MeanAbsoluteError(name='mae')]\n",
    ")\n",
    "\n",
    "# training\n",
    "history = model.fit(\n",
    "    train_ds,\n",
    "    epochs = 10,\n",
    "    validation_data = val_ds,\n",
    "    callbacks = get_callbacks(model.name)\n",
    ")\n",
    "\n",
    "model = keras.models.load_model('./models/'+model.name+'.h5')\n",
    "\n",
    "# evaluation\n",
    "_, val_mae  = model.evaluate(val_ds)\n",
    "_, test_mae  = model.evaluate(test_ds)\n",
    "\n",
    "print(f\"Validation MAE: {val_mae:.3f}\")\n",
    "print(f\"Test MAE: {test_mae:.3f}\")"
   ]
  },
  {
   "cell_type": "markdown",
   "metadata": {},
   "source": [
    "### Recurrent nets"
   ]
  },
  {
   "cell_type": "code",
   "execution_count": null,
   "metadata": {},
   "outputs": [],
   "source": [
    "# simple LSTM-based model\n",
    "\n",
    "# build and compile\n",
    "inputs = keras.Input(shape = (sequence_length, raw_data.shape[1])) # 120*14\n",
    "x = layers.Conv1D(8, 24, activation=\"relu\")(inputs) # 24 hours at a time\n",
    "x = layers.MaxPooling1D(2)(x)\n",
    "x = layers.Conv1D(8, 12, activation=\"relu\")(x)\n",
    "x = layers.MaxPooling1D(2)(x)\n",
    "x = layers.Conv1D(8, 6, activation=\"relu\")(x)\n",
    "x = layers.GlobalAveragePooling1D()(x)\n",
    "outputs = layers.Dense(1)(x)\n",
    "\n",
    "model = keras.Model(inputs=inputs, outputs=outputs, name='simple_lstm')\n",
    "\n",
    "model.compile(\n",
    "    optimizer = keras.optimizers.RMSprop(learning_rate=0.001),\n",
    "    loss = keras.losses.MeanSquaredError(),\n",
    "    metrics = [keras.metrics.MeanAbsoluteError(name='mae')]\n",
    ")\n",
    "\n",
    "# training\n",
    "history = model.fit(\n",
    "    train_ds,\n",
    "    epochs = 10,\n",
    "    validation_data = val_ds,\n",
    "    callbacks = get_callbacks(model.name)\n",
    ")\n",
    "\n",
    "model = keras.models.load_model('./models/'+model.name+'.h5')\n",
    "\n",
    "# evaluation\n",
    "_, val_mae  = model.evaluate(val_ds)\n",
    "_, test_mae  = model.evaluate(test_ds)\n",
    "\n",
    "print(f\"Validation MAE: {val_mae:.3f}\")\n",
    "print(f\"Test MAE: {test_mae:.3f}\")"
   ]
  }
 ],
 "metadata": {
  "kernelspec": {
   "display_name": "Python 3.10.5 64-bit",
   "language": "python",
   "name": "python3"
  },
  "language_info": {
   "codemirror_mode": {
    "name": "ipython",
    "version": 3
   },
   "file_extension": ".py",
   "mimetype": "text/x-python",
   "name": "python",
   "nbconvert_exporter": "python",
   "pygments_lexer": "ipython3",
   "version": "3.10.5"
  },
  "orig_nbformat": 4,
  "vscode": {
   "interpreter": {
    "hash": "369f2c481f4da34e4445cda3fffd2e751bd1c4d706f27375911949ba6bb62e1c"
   }
  }
 },
 "nbformat": 4,
 "nbformat_minor": 2
}
